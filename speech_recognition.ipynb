{
 "cells": [
  {
   "cell_type": "markdown",
   "metadata": {},
   "source": [
    " # Kaggle Speech Recognition \n",
    " \n",
    " ## Step1 : Preprocessing the data"
   ]
  },
  {
   "cell_type": "code",
   "execution_count": 13,
   "metadata": {},
   "outputs": [],
   "source": [
    "from pathlib import Path\n",
    "import numpy as np\n",
    "import pandas as pd\n",
    "import os\n",
    "import random\n",
    "import librosa\n",
    "import librosa.display\n",
    "from sklearn.preprocessing import LabelBinarizer\n",
    "from sklearn.model_selection import train_test_split\n",
    "from sklearn.utils import class_weight\n",
    "\n",
    "import matplotlib.pyplot as plt\n",
    "from scipy import signal\n",
    "from scipy.io import wavfile\n",
    "\n",
    "lb = LabelBinarizer()\n",
    "feats_mean = 0.0\n",
    "feats_std = 1.0\n",
    "def get_data(path):\n",
    "    '''create a dataframe of file path and its corresponding word'''\n",
    "    datadir = Path(path)\n",
    "    file_paths_and_word = [(str(file_path), file_path.parts[-2]) for file_path in datadir.glob('**/*.wav')]\n",
    "    df = pd.DataFrame(file_paths_and_word, columns=['path', 'word'])\n",
    "    return df\n",
    "\n",
    "def relabel_data(df):\n",
    "    train_words = ['yes', 'no', 'up', 'down', 'left', 'right', 'on', 'off', 'stop', 'go']\n",
    "    words = df.word.unique().tolist()\n",
    "    silence = ['_background_noise_']\n",
    "    unknown = [w for w in words if w not in silence + train_words]\n",
    "\n",
    "    df.loc[df.word.isin(silence), 'word'] = 'silence'\n",
    "    df.loc[df.word.isin(unknown), 'word'] = 'unknown'\n",
    "    return df\n",
    "\n",
    "def randomly_drop_unknowns(df, drop_rate=0):\n",
    "    random.seed(1.0)\n",
    "    selected_rows = []\n",
    "    \n",
    "    for index, row in df.iterrows():\n",
    "        if row.word == 'unknown':\n",
    "            if random.random() < drop_rate:\n",
    "                selected_rows.append(index)\n",
    "    df = df.drop(df.index[selected_rows])\n",
    "    return df\n",
    "\n",
    "def get_known_labelled_data(df):\n",
    "    train_words = ['yes', 'no', 'up', 'down', 'left', 'right', 'on', 'off', 'stop', 'go', 'silence']\n",
    "    df.loc[df.word.isin(train_words), 'word'] = 'known'\n",
    "    df = df[df.word != 'unknown']\n",
    "    return df\n",
    "\n",
    "def get_unknown_labelled_data(df):\n",
    "    df = df[df.word == 'unknown']\n",
    "    return df\n",
    "    \n",
    "def split_set(X, y, valid=0.2):\n",
    "        Xt, yt, Xv, yv = [], [], [], []\n",
    "        for idx, filename in enumerate(X): \n",
    "            user_id = filename[-21:-13]\n",
    "            random.seed(user_id)\n",
    "            if random.random() < valid:\n",
    "                Xv.append(X[idx])\n",
    "                yv.append(y[idx])\n",
    "            else:\n",
    "                Xt.append(X[idx])\n",
    "                yt.append(y[idx])\n",
    "\n",
    "        assert len(X) == len(Xt) + len(Xv)        \n",
    "        return Xt, yt, Xv, yv\n",
    "\n",
    "def split_set_gen(X, valid=0.2):\n",
    "    train_file_paths_and_word, val_file_paths_and_word = [], []\n",
    "    for idx, filename in enumerate(X.path): \n",
    "        user_id = filename[-21:-13]\n",
    "        random.seed(user_id)\n",
    "        if random.random() < valid:\n",
    "            val_file_paths_and_word.append((X.path[idx], X.word[idx]))\n",
    "        else:\n",
    "            train_file_paths_and_word.append((X.path[idx], X.word[idx]))\n",
    "\n",
    "    df_train = pd.DataFrame(train_file_paths_and_word, columns=['path', 'word'])\n",
    "    df_val = pd.DataFrame(val_file_paths_and_word, columns=['path', 'word'])       \n",
    "    return df_train, df_val\n",
    "    \n",
    "def gen_train_val_test_gen(df):\n",
    "    df = df.reset_index(drop=True)\n",
    "    #X = df.path\n",
    "    #print(len(df.path)) #--> 64727\n",
    "    #print(X[2353])\n",
    "    \n",
    "    weight = class_weight.compute_class_weight('balanced', np.unique(df.word), df.word)\n",
    "    y = lb.fit(df.word)\n",
    "    #print(y.shape)\n",
    "    #X_train, X_test, y_train, y_test = train_test_split(X, y, test_size=0.2, random_state=1)\n",
    "    #X_train, X_val, y_train, y_val = train_test_split(X_train, y_train, test_size=0.2, random_state=1)\n",
    "    X_train, X_val = split_set_gen(df)\n",
    "\n",
    "    #return pandas datatframe\n",
    "    return X_train, X_val, weight\n",
    " \n",
    "def gen_train_val_test(df):\n",
    "    df = df.reset_index(drop=True)    \n",
    "    X = df.path\n",
    "    #print(len(df.path)) #--> 64727\n",
    "    #print(X[2353])\n",
    "    \n",
    "    weight = class_weight.compute_class_weight('balanced', np.unique(df.word), df.word)\n",
    "    y = lb.fit_transform(df.word)\n",
    "    #print(y.shape)\n",
    "    #X_train, X_test, y_train, y_test = train_test_split(X, y, test_size=0.2, random_state=1)\n",
    "    #X_train, X_val, y_train, y_val = train_test_split(X_train, y_train, test_size=0.2, random_state=1)\n",
    "    X_train, y_train, X_val, y_val = split_set(X, y)\n",
    "    X_train = np.array(X_train)\n",
    "    y_train = np.array(y_train)\n",
    "    X_val = np.array(X_val)\n",
    "    y_val = np.array(y_val)\n",
    "    #return pandas datatframe\n",
    "    return X_train, y_train, X_val, y_val, weight\n",
    "\n",
    "### The following data augmentation functions are taken from Heng CherKeng ###\n",
    "### url: https://www.kaggle.com/c/tensorflow-speech-recognition-challenge/discussion/46982 ###\n",
    "AUDIO_NOISES=[]\n",
    "AUDIO_SR = 16000\n",
    "for file in ['dude_miaowing.wav',  'pink_noise.wav',   'white_noise.wav', 'doing_the_dishes.wav',\n",
    "             'exercise_bike.wav',  'running_tap.wav']:\n",
    "    audio_file = 'train/audio/_background_noise_/' + file\n",
    "    wave = librosa.core.load(audio_file, sr=AUDIO_SR)[0]\n",
    "    AUDIO_NOISES.append(wave)\n",
    "    \n",
    "def random_add_noise_transform(wave, noise_limit=0.1, u=0.5):\n",
    "\n",
    "    if random.random() < u:\n",
    "        num_noises = len(AUDIO_NOISES)\n",
    "        noise = AUDIO_NOISES[np.random.choice(num_noises)]\n",
    "\n",
    "        wave_length  = len(wave)\n",
    "        noise_length = len(noise)\n",
    "        if noise_length - wave_length > 1:\n",
    "            t = np.random.randint(0, noise_length - wave_length - 1)\n",
    "            noise = noise[t:t + wave_length]\n",
    "\n",
    "            alpha = np.random.random() * noise_limit\n",
    "            wave  = np.clip(alpha * noise + wave, -1, 1)\n",
    "\n",
    "    return wave\n",
    "\n",
    "def random_time_shift_transform(wave, shift_limit=0.2, u=0.5):\n",
    "    if random.random() < u:\n",
    "        wave_length  = len(wave)\n",
    "        shift_limit = shift_limit*wave_length\n",
    "        shift = np.random.randint(-shift_limit, shift_limit)\n",
    "        t0 = -min(0, shift)\n",
    "        t1 =  max(0, shift)\n",
    "        wave = np.pad(wave, (t0, t1), 'constant')\n",
    "        wave = wave[:-t0] if t0 else wave[t1:]\n",
    "\n",
    "    return wave\n",
    "\n",
    "AUDIO_LENGTH = 16000\n",
    "def random_pad_transform(wave, length=AUDIO_LENGTH):\n",
    "\n",
    "    if len(wave)<AUDIO_LENGTH:\n",
    "        L = abs(len(wave)-AUDIO_LENGTH)\n",
    "        start = np.random.choice(L)\n",
    "        wave  = np.pad(wave, (start, L-start), 'constant')\n",
    "\n",
    "    elif len(wave)>AUDIO_LENGTH:\n",
    "        L = abs(len(wave)-AUDIO_LENGTH)\n",
    "        start = np.random.choice(L)\n",
    "        wave  = wave[start: start+AUDIO_LENGTH]\n",
    "\n",
    "    return wave\n",
    "\n",
    "def fix_pad_transform(wave, length=AUDIO_LENGTH):\n",
    "    # wave = np.pad(wave, (0, max(0, AUDIO_LENGTH - len(wave))), 'constant')\n",
    "    # return wave\n",
    "\n",
    "    if len(wave)<AUDIO_LENGTH:\n",
    "        L = abs(len(wave)-AUDIO_LENGTH)\n",
    "        start = L//2\n",
    "        wave  = np.pad(wave, (start, L-start), 'constant')\n",
    "\n",
    "    elif len(wave)>AUDIO_LENGTH:\n",
    "        L = abs(len(wave)-AUDIO_LENGTH)\n",
    "        start = L//2\n",
    "        wave  = wave[start: start+AUDIO_LENGTH]\n",
    "\n",
    "    return wave\n",
    "\n",
    "def train_augment(wav):\n",
    "    wav = random_time_shift_transform(wav)\n",
    "    wav = random_add_noise_transform(wav)\n",
    "    wav = random_pad_transform(wav)\n",
    "    return wav    \n",
    "\n",
    "def val_augment(wav):\n",
    "    wav = fix_pad_transform(wav)\n",
    "    return wav\n",
    "\n",
    "\n",
    "\n",
    "### The following spectrogram and mfcc related functions are taken from DavidS ###\n",
    "### url: https://www.kaggle.com/davids1992/speech-representation-and-data-exploration ###\n",
    "def log_specgram(audio, sample_rate, window_size=20,\n",
    "                 step_size=10, eps=1e-10):\n",
    "    nperseg = int(round(window_size * sample_rate / 1e3))\n",
    "    noverlap = int(round(step_size * sample_rate / 1e3))\n",
    "    freqs, times, spec = signal.spectrogram(audio,\n",
    "                                    fs=sample_rate,\n",
    "                                    window='hann',\n",
    "                                    nperseg=nperseg,\n",
    "                                    noverlap=noverlap,\n",
    "                                    detrend=False)\n",
    "    return freqs, times, np.log(spec.T.astype(np.float32) + eps)\n",
    "\n",
    "def get_spectrogram(sample_rate, sample):\n",
    "    if sample.size < 16000:\n",
    "        sample = np.pad(sample, (16000 - sample.size, 0), mode='constant')\n",
    "    else:\n",
    "        sample = sample[0:16000]\n",
    "    _, _, spectrogram = log_specgram(sample, sample_rate)\n",
    "    \n",
    "    return spectrogram\n",
    "\n",
    "def print_spectrogram(spectrogram):\n",
    "    plt.figure(figsize=(12, 4))\n",
    "    plt.imshow(spectrogram.T, aspect='auto', origin='lower')\n",
    "    plt.ylabel('Frequency [Hz]')\n",
    "    plt.xlabel('Time [sec]')\n",
    "    plt.colorbar()\n",
    "    plt.show()\n",
    "    \n",
    "def get_mfcc(sample_rate, sample):\n",
    "    if sample.size < 16000:\n",
    "        sample = np.pad(sample, (16000 - sample.size, 0), mode='constant')\n",
    "    else:\n",
    "        sample = sample[0:16000]\n",
    "    S = librosa.feature.melspectrogram(sample, sr=sample_rate, n_mels=128)\n",
    "    log_S = librosa.power_to_db(S, ref=np.max)\n",
    "    mfcc = librosa.feature.mfcc(S=log_S, n_mfcc=13)\n",
    "    delta2_mfcc = librosa.feature.delta(mfcc, order=2)\n",
    "    #delta2_mfcc = delta2_mfcc.reshape(13, 32, -1)\n",
    "    return delta2_mfcc\n",
    "\n",
    "def print_mfcc(mfcc):\n",
    "    plt.figure(figsize=(12, 4))\n",
    "    librosa.display.specshow(mfcc)\n",
    "    plt.ylabel('MFCC coeffs')\n",
    "    plt.xlabel('Time')\n",
    "    plt.title('MFCC')\n",
    "    plt.colorbar()\n",
    "    plt.tight_layout()\n",
    "    plt.show()\n",
    "\n",
    "        \n",
    "    \n",
    "def get_mean_and_std(X, spectgram = False):\n",
    "    #randomly choose 1000 samples to estimate mean and std\n",
    "    idx = np.random.randint(0, len(X), 1000)\n",
    "    files = X[idx]\n",
    "    if spectgram:\n",
    "        feats = [get_spectrogram(wavfile.read(f)[0], wavfile.read(f)[1]) for f in files]\n",
    "    else:\n",
    "        feats = [get_mfcc(wavfile.read(f)[0], wavfile.read(f)[1]) for f in files]\n",
    "    feats = np.vstack(feats)\n",
    "    feats_mean = np.mean(feats, axis=0)\n",
    "    feats_std = np.std(feats, axis=0)\n",
    "            \n",
    "def normalize(mean, std, feature, eps=1e-14):\n",
    "    return (feature - mean) / (std + eps)\n",
    "    \n",
    "def one_batch(X, y, spectgram = False, train=False):\n",
    "    features = []\n",
    "    for f in X:\n",
    "        sample_rate = wavfile.read(f)[0]\n",
    "        sample = wavfile.read(f)[1]\n",
    "        if train:\n",
    "            sample = train_augment(sample)\n",
    "        else:\n",
    "            sample = val_augment(sample)\n",
    "            \n",
    "        if spectgram:\n",
    "            feats = get_spectrogram(sample_rate, sample)\n",
    "            feats = normalize(feats_mean, feats_std, feats)\n",
    "            features.append(feats)\n",
    "        else:\n",
    "            feats = get_mfcc(sample_rate, sample)\n",
    "            feats = normalize(feats_mean, feats_std, feats)\n",
    "            features.append(feats)\n",
    "    features = np.array(features)\n",
    "    labels = np.array(y)\n",
    "    if spectgram:\n",
    "        features = features.reshape(len(X),99,161,1)\n",
    "    else:\n",
    "        features = features.reshape(len(X),13,32,1)\n",
    "    #print(labels.shape)\n",
    "    return features, labels\n",
    "    \n",
    "'''   \n",
    "def batch_generator(X, y, batch_size=16, spectgram = False, silence_probability=0.1, unknown_probability=0.1):\n",
    "    idx_pool = range(0, X.shape[0])\n",
    "    known_probability = 1-silence_probability-unknown_probability\n",
    "    while True:\n",
    "        features = []\n",
    "        # choose batch_size random images / labels from the data \n",
    "        if len(idx_pool) < batch_size:\n",
    "            idx_pool = range(0, X.shape[0])\n",
    "        idx = random.sample(set(idx_pool), batch_size)\n",
    "        #delete idx from idx_pool\n",
    "        idx_pool = [x for x in idx_pool if x not in idx]\n",
    "        for i in idx:\n",
    "            features.append(X[idx])\n",
    "            labels.append(y[idx])\n",
    "        features = features.reshape(batch_size,13,32,1)\n",
    "        #labels = labels.reshape(batch_size,12,1)\n",
    "        yield features, labels \n",
    "'''\n",
    "def add_feature_and_label(features, labels, df, train, spectgram):\n",
    "    for idx, file in enumerate(df.path):\n",
    "        sample_rate = wavfile.read(file)[0]\n",
    "        sample = wavfile.read(file)[1]\n",
    "        if train:\n",
    "            sample = train_augment(sample)\n",
    "        else:\n",
    "            sample = val_augment(sample)\n",
    "            \n",
    "        if spectgram:\n",
    "            feats = get_spectrogram(sample_rate, sample)\n",
    "            feats = normalize(feats_mean, feats_std, feats)\n",
    "            features.append(feats)\n",
    "            labels.append(lb.transform([df.word[idx]]))\n",
    "        else:\n",
    "            feats = get_mfcc(sample_rate, sample)\n",
    "            feats = normalize(feats_mean, feats_std, feats)\n",
    "            features.append(feats)\n",
    "            label = lb.transform([df.word[idx]])\n",
    "            #print(label)\n",
    "            labels.append(label)\n",
    "    return features, labels\n",
    "    \n",
    "'''\n",
    "def batch_generator(df, batch_size=32, spectgram = False, silence_probability=0.1, unknown_probability=0.1, train=False):\n",
    "    df = df.reset_index(drop=True)\n",
    "    #known_data = pd.DataFrame(columns=['path','word'])\n",
    "    #silence_data = pd.DataFrame(columns=['path','word'])\n",
    "    #unknown_data = pd.DataFrame(columns=['path','word'])\n",
    "    known_words = ['yes', 'no', 'up', 'down', 'left', 'right', 'on', 'off', 'stop', 'go']\n",
    "    known_data = df.loc[df.word.isin(known_words)]\n",
    "    silence_data = df.loc[df.word == 'silence']\n",
    "    unknown_data = df.loc[df.word == 'unknown']\n",
    "    print(len(known_data.path))\n",
    "    print(len(unknown_data.path))\n",
    "    print(len(silence_data.path))\n",
    "    silence_num_per_batch = int(batch_size*silence_probability)\n",
    "    unknown_num_per_batch = int(batch_size*unknown_probability)\n",
    "    known_num_per_batch = batch_size - silence_num_per_batch - unknown_num_per_batch\n",
    "    unknown_sampling_rate = unknown_num_per_batch/len(unknown_data.path)\n",
    "    known_sampling_rate = known_num_per_batch/len(known_data.path)\n",
    "    silence_sampling_rate = silence_num_per_batch/len(silence_data.path)\n",
    "    while True:\n",
    "        features = []\n",
    "        labels = []\n",
    "        #print(len(unknown_data.path))\n",
    "        if unknown_num_per_batch > 0:\n",
    "            unknown_data = unknown_data.sample(frac=1).reset_index(drop=True)\n",
    "            unknown_list = unknown_data.sample(frac=unknown_sampling_rate).reset_index(drop=True)\n",
    "            unknown_list = unknown_list.iloc[0:unknown_num_per_batch]\n",
    "            #features, labels = add_feature_and_label(features, labels, unknown_list, train, spectgram)\n",
    "        if known_num_per_batch > 0:\n",
    "            known_data = known_data.sample(frac=1).reset_index(drop=True)\n",
    "            known_list = known_data.sample(frac=known_sampling_rate).reset_index(drop=True)\n",
    "            known_list = known_list.iloc[0:known_num_per_batch]\n",
    "            #features, labels = add_feature_and_label(features, labels, known_list, train, spectgram)\n",
    "        if silence_num_per_batch > 0:\n",
    "            silence_data = silence_data.sample(frac=1).reset_index(drop=True)\n",
    "            silence_list = silence_data.sample(frac=silence_sampling_rate).reset_index(drop=True)\n",
    "            silence_list = silence_list.iloc[0:silence_num_per_batch]\n",
    "            #features, labels = add_feature_and_label(features, labels, silence_list, train, spectgram)\n",
    "        \n",
    "        assert(len(unknown_list.path) + len(known_list.path) + len(silence_list.path) == batch_size)\n",
    "        df_final = unknown_list.append(known_list).append(silence_list)\n",
    "        df_final = df_final.sample(frac=1).reset_index(drop=True)\n",
    "        features, labels = add_feature_and_label(features, labels, df_final, train, spectgram)\n",
    "        features = np.array(features)\n",
    "        labels = np.array(labels)\n",
    "        features = features.reshape(batch_size,13,32,1)\n",
    "        #print(features.shape)\n",
    "        #print(labels.shape)\n",
    "        labels = labels.reshape(batch_size,12)\n",
    "        yield features, labels\n",
    "'''\n",
    "\n",
    "def random_sampling_index(sample_list, sample_num):\n",
    "    l = len(sample_list)\n",
    "    idx_pool = range(0, l)\n",
    "    sample_idx = random.sample(idx_pool, sample_num)\n",
    "    #random.shuffle(sample_list)\n",
    "    return sample_idx #, sample_list\n",
    "    \n",
    "    \n",
    "def batch_generator_2(X, y, batch_size=32, spectgram = False, silence_probability=0.1, unknown_probability=0.1, train=False):\n",
    "    #generate 3 classes: known, unknown, and silence\n",
    "    known_words = ['yes', 'no', 'up', 'down', 'left', 'right', 'on', 'off', 'stop', 'go']\n",
    "    known_data, unknown_data, silence_data = [], [], []\n",
    "    known_labels, unknown_labels, silence_labels = [], [], []\n",
    "    for i in range(len(X)):\n",
    "        label = lb.inverse_transform(y[i].reshape(1, -1), threshold=0.5)[0]\n",
    "        if label == 'unknown':\n",
    "            unknown_data.append(X[i])\n",
    "            unknown_labels.append(y[i])\n",
    "        elif label == 'silence':\n",
    "            silence_data.append(X[i])\n",
    "            silence_labels.append(y[i])\n",
    "        else:\n",
    "            known_data.append(X[i])\n",
    "            known_labels.append(y[i])\n",
    "    print(len(known_data))\n",
    "    print(len(unknown_data))\n",
    "    print(len(silence_data))\n",
    "    \n",
    "    silence_num_per_batch = int(batch_size*silence_probability)\n",
    "    unknown_num_per_batch = int(batch_size*unknown_probability)\n",
    "    known_num_per_batch = batch_size - silence_num_per_batch - unknown_num_per_batch\n",
    "    \n",
    "    \n",
    "    while True:\n",
    "        features = []\n",
    "        labels = []\n",
    "        #print(len(unknown_data.path))\n",
    "        if unknown_num_per_batch > 0:\n",
    "            idx_list = random_sampling_index(unknown_data, sample_num=unknown_num_per_batch)\n",
    "            for i in idx_list:\n",
    "                features.append(unknown_data[i])\n",
    "                labels.append(unknown_labels[i])\n",
    "        if known_num_per_batch > 0:\n",
    "            idx_list = random_sampling_index(known_data, sample_num=known_num_per_batch)\n",
    "            for i in idx_list:\n",
    "                features.append(known_data[i])\n",
    "                labels.append(known_labels[i])\n",
    "        if silence_num_per_batch > 0:\n",
    "            idx_list = random_sampling_index(silence_data, sample_num=silence_num_per_batch)\n",
    "            for i in idx_list:\n",
    "                features.append(silence_data[i])\n",
    "                labels.append(silence_labels[i])\n",
    "        \n",
    "        final_features = []\n",
    "        final_labels = []\n",
    "        assert(len(features) == batch_size)\n",
    "        #print(features[0])\n",
    "        idx_list = random_sampling_index(features, sample_num=len(features))\n",
    "        for i in idx_list:\n",
    "            final_features.append(features[i])\n",
    "            final_labels.append(labels[i])\n",
    "        final_features = np.array(final_features)\n",
    "        final_labels = np.array(final_labels)\n",
    "        final_features = final_features.reshape(batch_size,13,32,1)\n",
    "        #print(features.shape)\n",
    "        #print(labels.shape)\n",
    "        final_labels = final_labels.reshape(batch_size,12)\n",
    "        yield final_features, final_labels\n",
    "    \n",
    "def print_full(x):\n",
    "    pd.set_option('display.max_rows', len(x))\n",
    "    print(x)\n",
    "    pd.reset_option('display.max_rows')"
   ]
  },
  {
   "cell_type": "code",
   "execution_count": 71,
   "metadata": {},
   "outputs": [],
   "source": [
    "## run this cell only once. This generate the sliced 'silence' files for you\n",
    "from pydub import AudioSegment\n",
    "from pydub.utils import make_chunks\n",
    "\n",
    "def get_audio_slices(file_path):\n",
    "    print(file_path)\n",
    "    myaudio = AudioSegment.from_file(file_path , \"wav\") \n",
    "    chunk_length_ms = 1000 # pydub calculates in millisec\n",
    "    chunks = make_chunks(myaudio, chunk_length_ms) #Make chunks of one sec\n",
    "\n",
    "    #Export all of the individual chunks as wav files\n",
    "    for i, chunk in enumerate(chunks):\n",
    "        chunk_name = \"train/audio/_background_noise_/running_tap_chunk{0}.wav\".format(i)\n",
    "        print(\"exporting\", chunk_name)\n",
    "        chunk.export(chunk_name, format=\"wav\")\n",
    "        "
   ]
  },
  {
   "cell_type": "code",
   "execution_count": 4,
   "metadata": {},
   "outputs": [
    {
     "data": {
      "text/html": [
       "\n",
       "                <audio controls=\"controls\" >\n",
       "                    <source src=\"data:audio/x-wav;base64,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\" type=\"audio/x-wav\" />\n",
       "                    Your browser does not support the audio element.\n",
       "                </audio>\n",
       "              "
      ],
      "text/plain": [
       "<IPython.lib.display.Audio object>"
      ]
     },
     "execution_count": 4,
     "metadata": {},
     "output_type": "execute_result"
    }
   ],
   "source": [
    "import IPython.display as ipd\n",
    "ipd.Audio('test/audio/clip_0ac9b2db3.wav')"
   ]
  },
  {
   "cell_type": "code",
   "execution_count": 14,
   "metadata": {},
   "outputs": [
    {
     "name": "stdout",
     "output_type": "stream",
     "text": [
      "Number of files for training: 53436\n"
     ]
    }
   ],
   "source": [
    "# Preprocess data\n",
    "df = get_data('train/audio')\n",
    "df = relabel_data(df)\n",
    "df = randomly_drop_unknowns(df, drop_rate=0.0)\n",
    "X_train, y_train, X_val, y_val, class_weights = gen_train_val_test(df)\n",
    "#X_train,  X_val, class_weights = gen_train_val_test_gen(df)\n",
    "#unknown_df = get_unknown_labelled_data(relabel_data(get_data('train/audio')))\n",
    "print('Number of files for training: ' + str(len(X_train)))\n"
   ]
  },
  {
   "cell_type": "code",
   "execution_count": 9,
   "metadata": {},
   "outputs": [
    {
     "data": {
      "image/png": "[encoded data removed]",
      "text/plain": [
       "<matplotlib.figure.Figure at 0x7fe885641c88>"
      ]
     },
     "metadata": {},
     "output_type": "display_data"
    },
    {
     "name": "stdout",
     "output_type": "stream",
     "text": [
      "(99, 161)\n"
     ]
    },
    {
     "data": {
      "image/png": "[encoded data removed]",
      "text/plain": [
       "<matplotlib.figure.Figure at 0x7fe86a1c0358>"
      ]
     },
     "metadata": {},
     "output_type": "display_data"
    },
    {
     "name": "stdout",
     "output_type": "stream",
     "text": [
      "(13, 32)\n"
     ]
    }
   ],
   "source": [
    "sample_rate = wavfile.read(X_train[0])[0]\n",
    "sample = wavfile.read(X_train[0])[1]\n",
    "spect = get_spectrogram(sample_rate, sample)\n",
    "print_spectrogram(spect)\n",
    "print(spect.shape)\n",
    "mfcc = get_mfcc(sample_rate, sample)\n",
    "print_mfcc(mfcc)\n",
    "print(mfcc.shape)"
   ]
  },
  {
   "cell_type": "code",
   "execution_count": 31,
   "metadata": {
    "scrolled": false
   },
   "outputs": [],
   "source": [
    "#compute mean and std\n",
    "get_mean_and_std(X_train, spectgram = False)\n",
    "\n",
    "#generators\n",
    "#train_gen = batch_generator(X_train.values, y_train, batch_size=32)\n",
    "#valid_gen = batch_generator(X_val.values, y_val, batch_size=32)"
   ]
  },
  {
   "cell_type": "code",
   "execution_count": 32,
   "metadata": {},
   "outputs": [
    {
     "name": "stderr",
     "output_type": "stream",
     "text": [
      "/usr/local/lib/python3.5/dist-packages/scipy/io/wavfile.py:273: WavFileWarning: Chunk (non-data) not understood, skipping it.\n",
      "  WavFileWarning)\n"
     ]
    }
   ],
   "source": [
    "X_train, y_train = one_batch(X_train, y_train, spectgram = False, train=True)\n",
    "X_val, y_val = one_batch(X_val, y_val, spectgram = False)\n",
    "#X_unknowns, y_unknowns = one_batch(unknown_df.path, unknown_df.word)"
   ]
  },
  {
   "cell_type": "code",
   "execution_count": 15,
   "metadata": {},
   "outputs": [
    {
     "name": "stdout",
     "output_type": "stream",
     "text": [
      "(19527, 13, 32, 1)\n",
      "(4161, 13, 32, 1)\n",
      "(41039, 416)\n"
     ]
    }
   ],
   "source": [
    "print(X_train.shape)\n",
    "print(X_val.shape)\n",
    "X_train = X_train.reshape(len(X_train), 416)\n",
    "X_val = X_val.reshape(len(X_val), 416)\n",
    "X_unknowns = X_unknowns.reshape(len(X_unknowns), 416)\n",
    "print(X_unknowns.shape)"
   ]
  },
  {
   "cell_type": "code",
   "execution_count": 33,
   "metadata": {},
   "outputs": [],
   "source": [
    "import time\n",
    "import os\n",
    "import keras\n",
    "from keras import regularizers\n",
    "from keras.layers import Conv2D, Conv1D, UpSampling2D, TimeDistributed, BatchNormalization, Input, Dropout, MaxPooling2D, Dense, Flatten, Activation\n",
    "from keras.models import Model\n",
    "from keras.optimizers import Adam\n",
    "from keras.callbacks import ModelCheckpoint, TensorBoard\n",
    "\n",
    "#GPU settings\n",
    "from keras.backend.tensorflow_backend import set_session\n",
    "import tensorflow as tf \n",
    "config = tf.ConfigProto()\n",
    "config.gpu_options.per_process_gpu_memory_fraction = 0.8\n",
    "set_session(tf.Session(config=config))"
   ]
  },
  {
   "cell_type": "code",
   "execution_count": 34,
   "metadata": {},
   "outputs": [],
   "source": [
    "def get_model( output_dim=12):\n",
    "    '''Create a keras model.'''\n",
    "    input_data = Input(name='the_input', shape = (13, 32, 1))\n",
    "    \n",
    "    img = Conv2D(32, (2,2), activation='elu')(input_data)\n",
    "    #img = Conv2D(32, (2,2), activation='elu')(img)\n",
    "    #img = MaxPooling2D(pool_size=(2, 2))(img)\n",
    "    #img = Dropout(0.25)(img)\n",
    "    img = BatchNormalization()(img)\n",
    "    \n",
    "    img = Conv2D(64, (2,2), activation='elu')(img)\n",
    "    #img = Conv2D(16, (2,2), activation='elu')(img)\n",
    "    img = MaxPooling2D(pool_size=(2, 2))(img)\n",
    "    img = BatchNormalization()(img)\n",
    "    \n",
    "    img = Conv2D(128, (2,2), activation='elu')(img)\n",
    "    #img = Conv2D(16, (2,2), activation='elu')(img)\n",
    "    img = MaxPooling2D(pool_size=(2, 2))(img)\n",
    "    img = BatchNormalization()(img)\n",
    "    \n",
    "    flat = Flatten()(img)\n",
    "    \n",
    "    #time_dense = TimeDistributed(Dense(32, activation='elu'))(bn2)\n",
    "    dense = Dense(32, activation='elu')(flat)\n",
    "    dense = Dropout(0.25)(dense)\n",
    "    #dense = BatchNormalization()(dense)\n",
    "    \n",
    "    dense = Dense(output_dim)(dense)\n",
    "    y_pred = Activation('softmax', name='softmax')(dense)\n",
    "    \n",
    "    model = Model(inputs=input_data, outputs=y_pred) \n",
    "    return model\n",
    "\n",
    "def get_model_2( output_dim=12):\n",
    "    '''Create a keras model.'''\n",
    "    input_data = Input(name='the_input', shape = (13, 32, 1))\n",
    "    \n",
    "    img = Conv2D(64, (3,3), activation='relu')(input_data)\n",
    "    img = MaxPooling2D(pool_size=(2, 2))(img)\n",
    "    img = Conv2D(64, (3,3), activation='relu')(img)\n",
    "    img = MaxPooling2D(pool_size=(2, 2))(img)\n",
    "\n",
    "    flat = Flatten()(img)\n",
    "    \n",
    "    #time_dense = TimeDistributed(Dense(32, activation='elu'))(bn2)\n",
    "    #dense = Dense(180, activation='relu')(flat)\n",
    "    #dense = Dropout(0.5)(dense)\n",
    "    #dense = Dense(100, activation='relu')(dense)\n",
    "    dense = Dropout(0.5)(flat)\n",
    "    dense = Dense(output_dim)(dense)\n",
    "    y_pred = Activation('softmax', name='softmax')(dense)\n",
    "    \n",
    "    model = Model(inputs=input_data, outputs=y_pred) \n",
    "    return model\n",
    "\n",
    "model = get_model()"
   ]
  },
  {
   "cell_type": "code",
   "execution_count": 37,
   "metadata": {},
   "outputs": [
    {
     "name": "stdout",
     "output_type": "stream",
     "text": [
      "_________________________________________________________________\n",
      "Layer (type)                 Output Shape              Param #   \n",
      "=================================================================\n",
      "the_input (InputLayer)       (None, 13, 32, 1)         0         \n",
      "_________________________________________________________________\n",
      "conv2d_13 (Conv2D)           (None, 12, 31, 32)        160       \n",
      "_________________________________________________________________\n",
      "batch_normalization_11 (Batc (None, 12, 31, 32)        128       \n",
      "_________________________________________________________________\n",
      "conv2d_14 (Conv2D)           (None, 11, 30, 64)        8256      \n",
      "_________________________________________________________________\n",
      "max_pooling2d_11 (MaxPooling (None, 5, 15, 64)         0         \n",
      "_________________________________________________________________\n",
      "batch_normalization_12 (Batc (None, 5, 15, 64)         256       \n",
      "_________________________________________________________________\n",
      "conv2d_15 (Conv2D)           (None, 4, 14, 128)        32896     \n",
      "_________________________________________________________________\n",
      "max_pooling2d_12 (MaxPooling (None, 2, 7, 128)         0         \n",
      "_________________________________________________________________\n",
      "batch_normalization_13 (Batc (None, 2, 7, 128)         512       \n",
      "_________________________________________________________________\n",
      "flatten_3 (Flatten)          (None, 1792)              0         \n",
      "_________________________________________________________________\n",
      "dense_5 (Dense)              (None, 32)                57376     \n",
      "_________________________________________________________________\n",
      "dropout_3 (Dropout)          (None, 32)                0         \n",
      "_________________________________________________________________\n",
      "dense_6 (Dense)              (None, 12)                396       \n",
      "_________________________________________________________________\n",
      "softmax (Activation)         (None, 12)                0         \n",
      "=================================================================\n",
      "Total params: 99,980\n",
      "Trainable params: 99,532\n",
      "Non-trainable params: 448\n",
      "_________________________________________________________________\n"
     ]
    }
   ],
   "source": [
    "from keras import optimizers\n",
    "#build model\n",
    "sgd = optimizers.SGD(lr=0.005, decay=1e-6, momentum=0.9, nesterov=True)\n",
    "adam = optimizers.Adam(lr=0.0001)\n",
    "model.compile(loss='categorical_crossentropy', optimizer=sgd, metrics=['accuracy'])\n",
    "model.summary()\n",
    "if not os.path.exists('results'):\n",
    "        os.makedirs('results')\n",
    "checkpointer = ModelCheckpoint(filepath='results/'+'model_3.h5', verbose=0)\n"
   ]
  },
  {
   "cell_type": "code",
   "execution_count": 39,
   "metadata": {
    "scrolled": true
   },
   "outputs": [
    {
     "name": "stdout",
     "output_type": "stream",
     "text": [
      "Train on 21641 samples, validate on 4566 samples\n",
      "Epoch 1/15\n",
      "21641/21641 [==============================] - 4s - loss: 1.8147 - acc: 0.3860 - val_loss: 1.2821 - val_acc: 0.6170\n",
      "Epoch 2/15\n",
      "21641/21641 [==============================] - 4s - loss: 1.3032 - acc: 0.5599 - val_loss: 0.9578 - val_acc: 0.7092\n",
      "Epoch 3/15\n",
      "21641/21641 [==============================] - 4s - loss: 1.1020 - acc: 0.6347 - val_loss: 0.8127 - val_acc: 0.7407\n",
      "Epoch 4/15\n",
      "21641/21641 [==============================] - 4s - loss: 0.9947 - acc: 0.6748 - val_loss: 0.7352 - val_acc: 0.7716\n",
      "Epoch 5/15\n",
      "21641/21641 [==============================] - 4s - loss: 0.9225 - acc: 0.7033 - val_loss: 0.6842 - val_acc: 0.7852\n",
      "Epoch 6/15\n",
      "21641/21641 [==============================] - 4s - loss: 0.8761 - acc: 0.7217 - val_loss: 0.6842 - val_acc: 0.7799\n",
      "Epoch 7/15\n",
      "21641/21641 [==============================] - 4s - loss: 0.8373 - acc: 0.7341 - val_loss: 0.6246 - val_acc: 0.8042\n",
      "Epoch 8/15\n",
      "21641/21641 [==============================] - 4s - loss: 0.8121 - acc: 0.7387 - val_loss: 0.6051 - val_acc: 0.8005\n",
      "Epoch 9/15\n",
      "21641/21641 [==============================] - 4s - loss: 0.7774 - acc: 0.7520 - val_loss: 0.5982 - val_acc: 0.8103\n",
      "Epoch 10/15\n",
      "21641/21641 [==============================] - 4s - loss: 0.7590 - acc: 0.7575 - val_loss: 0.5639 - val_acc: 0.8226\n",
      "Epoch 11/15\n",
      "21641/21641 [==============================] - 4s - loss: 0.7394 - acc: 0.7630 - val_loss: 0.5634 - val_acc: 0.8215\n",
      "Epoch 12/15\n",
      "21641/21641 [==============================] - 4s - loss: 0.7238 - acc: 0.7664 - val_loss: 0.5506 - val_acc: 0.8215\n",
      "Epoch 13/15\n",
      "21641/21641 [==============================] - 4s - loss: 0.7167 - acc: 0.7715 - val_loss: 0.5224 - val_acc: 0.8311\n",
      "Epoch 14/15\n",
      "21641/21641 [==============================] - 4s - loss: 0.7051 - acc: 0.7747 - val_loss: 0.5302 - val_acc: 0.8309\n",
      "Epoch 15/15\n",
      "21641/21641 [==============================] - 4s - loss: 0.6908 - acc: 0.7783 - val_loss: 0.5516 - val_acc: 0.8290\n"
     ]
    },
    {
     "data": {
      "text/plain": [
       "<keras.callbacks.History at 0x7f61defabf98>"
      ]
     },
     "execution_count": 39,
     "metadata": {},
     "output_type": "execute_result"
    }
   ],
   "source": [
    "model.fit(X_train, y_train,\n",
    "                    epochs=15,\n",
    "                    batch_size=32,\n",
    "                    shuffle=True,\n",
    "                    validation_data=(X_val, y_val),\n",
    "                    class_weight = class_weights,\n",
    "                    verbose=1,\n",
    "                    callbacks=[checkpointer])"
   ]
  },
  {
   "cell_type": "code",
   "execution_count": 39,
   "metadata": {
    "scrolled": true
   },
   "outputs": [
    {
     "name": "stdout",
     "output_type": "stream",
     "text": [
      "Epoch 1/15\n",
      "19522\n",
      "33517\n",
      "397\n",
      "1666/1669 [============================>.] - ETA: 0s - loss: 0.4883 - acc: 0.83244160\n",
      "7522\n",
      "11\n",
      "1669/1669 [==============================] - 19s - loss: 0.4884 - acc: 0.8323 - val_loss: 0.6613 - val_acc: 0.8311\n",
      "Epoch 2/15\n",
      "1669/1669 [==============================] - 19s - loss: 0.4718 - acc: 0.8393 - val_loss: 0.6256 - val_acc: 0.8314\n",
      "Epoch 3/15\n",
      "1669/1669 [==============================] - 19s - loss: 0.4553 - acc: 0.8439 - val_loss: 0.6079 - val_acc: 0.8351\n",
      "Epoch 4/15\n",
      "1669/1669 [==============================] - 18s - loss: 0.4417 - acc: 0.8496 - val_loss: 0.7183 - val_acc: 0.8310\n",
      "Epoch 5/15\n",
      "1669/1669 [==============================] - 19s - loss: 0.4237 - acc: 0.8543 - val_loss: 0.7360 - val_acc: 0.8144\n",
      "Epoch 6/15\n",
      "1669/1669 [==============================] - 19s - loss: 0.4151 - acc: 0.8578 - val_loss: 0.7827 - val_acc: 0.8234\n",
      "Epoch 7/15\n",
      "1669/1669 [==============================] - 18s - loss: 0.3948 - acc: 0.8655 - val_loss: 0.6806 - val_acc: 0.8350\n",
      "Epoch 8/15\n",
      "1669/1669 [==============================] - 18s - loss: 0.3960 - acc: 0.8648 - val_loss: 0.7958 - val_acc: 0.8191\n",
      "Epoch 9/15\n",
      "1669/1669 [==============================] - 19s - loss: 0.3836 - acc: 0.8688 - val_loss: 0.7249 - val_acc: 0.8235\n",
      "Epoch 10/15\n",
      "1669/1669 [==============================] - 18s - loss: 0.3785 - acc: 0.8715 - val_loss: 0.8438 - val_acc: 0.8224\n",
      "Epoch 11/15\n",
      "1669/1669 [==============================] - 18s - loss: 0.3688 - acc: 0.8731 - val_loss: 0.7115 - val_acc: 0.8339\n",
      "Epoch 12/15\n",
      "1669/1669 [==============================] - 18s - loss: 0.3514 - acc: 0.8808 - val_loss: 0.7740 - val_acc: 0.8280\n",
      "Epoch 13/15\n",
      "1669/1669 [==============================] - 18s - loss: 0.3481 - acc: 0.8805 - val_loss: 0.8049 - val_acc: 0.8258\n",
      "Epoch 14/15\n",
      "1669/1669 [==============================] - 19s - loss: 0.3441 - acc: 0.8830 - val_loss: 0.7360 - val_acc: 0.8430\n",
      "Epoch 15/15\n",
      "1669/1669 [==============================] - 19s - loss: 0.3378 - acc: 0.8845 - val_loss: 0.8144 - val_acc: 0.8137\n"
     ]
    },
    {
     "data": {
      "text/plain": [
       "<keras.callbacks.History at 0x7f6fe1957f28>"
      ]
     },
     "execution_count": 39,
     "metadata": {},
     "output_type": "execute_result"
    }
   ],
   "source": [
    "#train model\n",
    "#checkpointer = ModelCheckpoint(filepath='results/'+'model_1.h5', verbose=0)\n",
    "#model = keras.models.load_model('results/'+'model_1.h5')\n",
    "model.fit_generator(\n",
    "    generator=batch_generator_2(X_train, y_train, batch_size=32),\n",
    "    epochs=15,\n",
    "    steps_per_epoch=X_train.shape[0] // 32,\n",
    "    validation_data=batch_generator_2(X_val, y_val, batch_size=32),\n",
    "    validation_steps=X_val.shape[0] // 32, \n",
    "    class_weight = class_weights,\n",
    "    callbacks=[checkpointer])"
   ]
  },
  {
   "cell_type": "code",
   "execution_count": 134,
   "metadata": {},
   "outputs": [],
   "source": [
    "model.save('results/'+'model_3.h5')"
   ]
  },
  {
   "cell_type": "code",
   "execution_count": 9,
   "metadata": {},
   "outputs": [
    {
     "name": "stderr",
     "output_type": "stream",
     "text": [
      "/usr/local/lib/python3.5/dist-packages/scipy/io/wavfile.py:273: WavFileWarning: Chunk (non-data) not understood, skipping it.\n",
      "  WavFileWarning)\n"
     ]
    }
   ],
   "source": [
    "#If there are test data generated from the initial training data, run the following three cells\n",
    "#convert test data into normalised spectrograms\n",
    "normalized_specs = []\n",
    "test_len = X_test.shape[0]\n",
    "for f in X_test.values:\n",
    "    normalized_specs.append(normalize(feats_mean, feats_std, get_mfcc(f)))\n"
   ]
  },
  {
   "cell_type": "code",
   "execution_count": 54,
   "metadata": {},
   "outputs": [
    {
     "ename": "NameError",
     "evalue": "name 'normalized_specs' is not defined",
     "output_type": "error",
     "traceback": [
      "\u001b[0;31m---------------------------------------------------------------------------\u001b[0m",
      "\u001b[0;31mNameError\u001b[0m                                 Traceback (most recent call last)",
      "\u001b[0;32m<ipython-input-54-56c3981db166>\u001b[0m in \u001b[0;36m<module>\u001b[0;34m()\u001b[0m\n\u001b[1;32m      1\u001b[0m \u001b[0mpredictions\u001b[0m \u001b[0;34m=\u001b[0m \u001b[0;34m[\u001b[0m\u001b[0;34m]\u001b[0m\u001b[0;34m\u001b[0m\u001b[0m\n\u001b[1;32m      2\u001b[0m \u001b[0;32mfor\u001b[0m \u001b[0mi\u001b[0m \u001b[0;32min\u001b[0m \u001b[0mrange\u001b[0m\u001b[0;34m(\u001b[0m\u001b[0;36m100\u001b[0m\u001b[0;34m)\u001b[0m\u001b[0;34m:\u001b[0m\u001b[0;34m\u001b[0m\u001b[0m\n\u001b[0;32m----> 3\u001b[0;31m     \u001b[0mpred\u001b[0m \u001b[0;34m=\u001b[0m \u001b[0mmodel\u001b[0m\u001b[0;34m.\u001b[0m\u001b[0mpredict\u001b[0m\u001b[0;34m(\u001b[0m\u001b[0mnp\u001b[0m\u001b[0;34m.\u001b[0m\u001b[0marray\u001b[0m\u001b[0;34m(\u001b[0m\u001b[0mnormalized_specs\u001b[0m\u001b[0;34m[\u001b[0m\u001b[0mi\u001b[0m\u001b[0;34m]\u001b[0m\u001b[0;34m.\u001b[0m\u001b[0mreshape\u001b[0m\u001b[0;34m(\u001b[0m\u001b[0;36m1\u001b[0m\u001b[0;34m,\u001b[0m\u001b[0;36m13\u001b[0m\u001b[0;34m,\u001b[0m\u001b[0;36m32\u001b[0m\u001b[0;34m,\u001b[0m\u001b[0;36m1\u001b[0m\u001b[0;34m)\u001b[0m\u001b[0;34m)\u001b[0m\u001b[0;34m)\u001b[0m\u001b[0;34m\u001b[0m\u001b[0m\n\u001b[0m\u001b[1;32m      4\u001b[0m     \u001b[0mpredictions\u001b[0m\u001b[0;34m.\u001b[0m\u001b[0mextend\u001b[0m\u001b[0;34m(\u001b[0m\u001b[0mpred\u001b[0m\u001b[0;34m)\u001b[0m\u001b[0;34m\u001b[0m\u001b[0m\n\u001b[1;32m      5\u001b[0m \u001b[0;34m[\u001b[0m\u001b[0mlb\u001b[0m\u001b[0;34m.\u001b[0m\u001b[0minverse_transform\u001b[0m\u001b[0;34m(\u001b[0m\u001b[0mp\u001b[0m\u001b[0;34m.\u001b[0m\u001b[0mreshape\u001b[0m\u001b[0;34m(\u001b[0m\u001b[0;36m1\u001b[0m\u001b[0;34m,\u001b[0m \u001b[0;34m-\u001b[0m\u001b[0;36m1\u001b[0m\u001b[0;34m)\u001b[0m\u001b[0;34m,\u001b[0m \u001b[0mthreshold\u001b[0m\u001b[0;34m=\u001b[0m\u001b[0;36m0.5\u001b[0m\u001b[0;34m)\u001b[0m\u001b[0;34m[\u001b[0m\u001b[0;36m0\u001b[0m\u001b[0;34m]\u001b[0m \u001b[0;32mfor\u001b[0m \u001b[0mp\u001b[0m \u001b[0;32min\u001b[0m \u001b[0mpredictions\u001b[0m\u001b[0;34m]\u001b[0m\u001b[0;34m\u001b[0m\u001b[0m\n",
      "\u001b[0;31mNameError\u001b[0m: name 'normalized_specs' is not defined"
     ]
    }
   ],
   "source": [
    "#make predictions\n",
    "predictions = []\n",
    "for i in range(100):\n",
    "    pred = model.predict(np.array(normalized_specs[i].reshape(1,13,32,1)))\n",
    "    predictions.extend(pred)\n",
    "[lb.inverse_transform(p.reshape(1, -1), threshold=0.5)[0] for p in predictions]"
   ]
  },
  {
   "cell_type": "code",
   "execution_count": 36,
   "metadata": {},
   "outputs": [
    {
     "name": "stdout",
     "output_type": "stream",
     "text": [
      "12946/12946 [==============================] - 1s\n"
     ]
    },
    {
     "data": {
      "text/plain": [
       "[0.34745356440544128, 0.8902360200881958]"
      ]
     },
     "execution_count": 36,
     "metadata": {},
     "output_type": "execute_result"
    }
   ],
   "source": [
    "#evaluate testing result\n",
    "model.evaluate(np.array(normalized_specs).reshape(test_len,13,32,1), np.array(y_test), verbose=1, batch_size = test_len)"
   ]
  },
  {
   "cell_type": "code",
   "execution_count": 16,
   "metadata": {},
   "outputs": [
    {
     "name": "stdout",
     "output_type": "stream",
     "text": [
      "158538\n",
      "test/audio/clip_bd6d0fb25.wav\n"
     ]
    }
   ],
   "source": [
    "#Get data for submission\n",
    "predictions = []\n",
    "test = get_data('test/audio')\n",
    "print(test.shape[0])\n",
    "print(test.path.values[0])"
   ]
  },
  {
   "cell_type": "code",
   "execution_count": null,
   "metadata": {},
   "outputs": [],
   "source": [
    "#Generate predictions\n",
    "i=0\n",
    "for f in test.path.values:\n",
    "    sample_rate = wavfile.read(f)[0]\n",
    "    sample = wavfile.read(f)[1]\n",
    "    normalized_spec = normalize(feats_mean, feats_std, get_mfcc(sample_rate, sample))\n",
    "    pred = model.predict(np.array(normalized_spec.reshape(1,13,32,1)))\n",
    "    predictions.extend(pred)\n",
    "    i = i+1"
   ]
  },
  {
   "cell_type": "code",
   "execution_count": 18,
   "metadata": {},
   "outputs": [],
   "source": [
    "labels = [lb.inverse_transform(p.reshape(1, -1), threshold=0.5)[0] for p in predictions]\n",
    "test['labels'] = labels\n",
    "test.path = test.path.apply(lambda x: str(x).split('/')[-1])\n",
    "submission = pd.DataFrame({'fname': test.path.tolist(), 'label': labels})\n",
    "submission.to_csv('submission1.csv', index=False)"
   ]
  },
  {
   "cell_type": "code",
   "execution_count": 141,
   "metadata": {},
   "outputs": [
    {
     "name": "stdout",
     "output_type": "stream",
     "text": [
      "50295\n"
     ]
    }
   ],
   "source": [
    "print(labels.count('unknown'))"
   ]
  },
  {
   "cell_type": "code",
   "execution_count": 142,
   "metadata": {},
   "outputs": [
    {
     "name": "stdout",
     "output_type": "stream",
     "text": [
      "14199\n"
     ]
    }
   ],
   "source": [
    "print(labels.count('silence'))"
   ]
  },
  {
   "cell_type": "markdown",
   "metadata": {},
   "source": []
  }
 ],
 "metadata": {
  "kernelspec": {
   "display_name": "Python 3",
   "language": "python",
   "name": "python3"
  },
  "language_info": {
   "codemirror_mode": {
    "name": "ipython",
    "version": 3
   },
   "file_extension": ".py",
   "mimetype": "text/x-python",
   "name": "python",
   "nbconvert_exporter": "python",
   "pygments_lexer": "ipython3",
   "version": "3.5.2"
  }
 },
 "nbformat": 4,
 "nbformat_minor": 2
}
